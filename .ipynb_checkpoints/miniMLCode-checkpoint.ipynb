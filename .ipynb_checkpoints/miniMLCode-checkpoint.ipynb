{
 "cells": [
  {
   "cell_type": "markdown",
   "metadata": {
    "id": "ntM3NbSJOVmP"
   },
   "source": [
    "###Data Preprocessing\n"
   ]
  },
  {
   "cell_type": "code",
   "execution_count": 4,
   "metadata": {},
   "outputs": [
    {
     "name": "stdout",
     "output_type": "stream",
     "text": [
      "Defaulting to user installation because normal site-packages is not writeable\n",
      "Collecting numpy\n",
      "  Downloading numpy-2.2.2-cp312-cp312-win_amd64.whl.metadata (60 kB)\n",
      "Downloading numpy-2.2.2-cp312-cp312-win_amd64.whl (12.6 MB)\n",
      "   ---------------------------------------- 0.0/12.6 MB ? eta -:--:--\n",
      "   ---------------------------------------- 0.0/12.6 MB ? eta -:--:--\n",
      "    --------------------------------------- 0.3/12.6 MB ? eta -:--:--\n",
      "    --------------------------------------- 0.3/12.6 MB ? eta -:--:--\n",
      "   - -------------------------------------- 0.5/12.6 MB 882.6 kB/s eta 0:00:14\n",
      "   -- ------------------------------------- 0.8/12.6 MB 932.9 kB/s eta 0:00:13\n",
      "   ---- ----------------------------------- 1.3/12.6 MB 1.2 MB/s eta 0:00:10\n",
      "   ---- ----------------------------------- 1.6/12.6 MB 1.2 MB/s eta 0:00:10\n",
      "   ----- ---------------------------------- 1.8/12.6 MB 1.3 MB/s eta 0:00:09\n",
      "   ------ --------------------------------- 2.1/12.6 MB 1.4 MB/s eta 0:00:08\n",
      "   -------- ------------------------------- 2.6/12.6 MB 1.4 MB/s eta 0:00:08\n",
      "   --------- ------------------------------ 3.1/12.6 MB 1.5 MB/s eta 0:00:07\n",
      "   ----------- ---------------------------- 3.7/12.6 MB 1.6 MB/s eta 0:00:06\n",
      "   ------------- -------------------------- 4.2/12.6 MB 1.7 MB/s eta 0:00:06\n",
      "   -------------- ------------------------- 4.5/12.6 MB 1.7 MB/s eta 0:00:05\n",
      "   --------------- ------------------------ 5.0/12.6 MB 1.7 MB/s eta 0:00:05\n",
      "   ------------------ --------------------- 5.8/12.6 MB 1.8 MB/s eta 0:00:04\n",
      "   ------------------- -------------------- 6.0/12.6 MB 1.9 MB/s eta 0:00:04\n",
      "   --------------------- ------------------ 6.8/12.6 MB 1.9 MB/s eta 0:00:04\n",
      "   --------------------- ------------------ 6.8/12.6 MB 1.9 MB/s eta 0:00:04\n",
      "   ----------------------- ---------------- 7.3/12.6 MB 1.8 MB/s eta 0:00:03\n",
      "   ------------------------ --------------- 7.9/12.6 MB 1.9 MB/s eta 0:00:03\n",
      "   -------------------------- ------------- 8.4/12.6 MB 1.9 MB/s eta 0:00:03\n",
      "   ----------------------------- ---------- 9.2/12.6 MB 2.0 MB/s eta 0:00:02\n",
      "   ------------------------------ --------- 9.7/12.6 MB 2.1 MB/s eta 0:00:02\n",
      "   -------------------------------- ------- 10.2/12.6 MB 2.1 MB/s eta 0:00:02\n",
      "   ---------------------------------- ----- 11.0/12.6 MB 2.1 MB/s eta 0:00:01\n",
      "   ------------------------------------- -- 11.8/12.6 MB 2.2 MB/s eta 0:00:01\n",
      "   ---------------------------------------  12.3/12.6 MB 2.2 MB/s eta 0:00:01\n",
      "   ---------------------------------------- 12.6/12.6 MB 2.2 MB/s eta 0:00:00\n",
      "Installing collected packages: numpy\n",
      "Successfully installed numpy-2.2.2\n",
      "Note: you may need to restart the kernel to use updated packages.\n"
     ]
    }
   ],
   "source": [
    "pip install numpy"
   ]
  },
  {
   "cell_type": "code",
   "execution_count": 6,
   "metadata": {},
   "outputs": [
    {
     "name": "stdout",
     "output_type": "stream",
     "text": [
      "Defaulting to user installation because normal site-packages is not writeable\n",
      "Collecting pandas\n",
      "  Downloading pandas-2.2.3-cp312-cp312-win_amd64.whl.metadata (19 kB)\n",
      "Requirement already satisfied: numpy>=1.26.0 in c:\\users\\chandini\\appdata\\roaming\\python\\python312\\site-packages (from pandas) (2.2.2)\n",
      "Requirement already satisfied: python-dateutil>=2.8.2 in c:\\users\\chandini\\appdata\\roaming\\python\\python312\\site-packages (from pandas) (2.9.0.post0)\n",
      "Collecting pytz>=2020.1 (from pandas)\n",
      "  Downloading pytz-2025.1-py2.py3-none-any.whl.metadata (22 kB)\n",
      "Requirement already satisfied: tzdata>=2022.7 in c:\\users\\chandini\\appdata\\roaming\\python\\python312\\site-packages (from pandas) (2024.2)\n",
      "Requirement already satisfied: six>=1.5 in c:\\users\\chandini\\appdata\\roaming\\python\\python312\\site-packages (from python-dateutil>=2.8.2->pandas) (1.17.0)\n",
      "Downloading pandas-2.2.3-cp312-cp312-win_amd64.whl (11.5 MB)\n",
      "   ---------------------------------------- 0.0/11.5 MB ? eta -:--:--\n",
      "   ---------------------------------------- 0.0/11.5 MB ? eta -:--:--\n",
      "    --------------------------------------- 0.3/11.5 MB ? eta -:--:--\n",
      "    --------------------------------------- 0.3/11.5 MB ? eta -:--:--\n",
      "   - -------------------------------------- 0.5/11.5 MB 799.2 kB/s eta 0:00:14\n",
      "   -- ------------------------------------- 0.8/11.5 MB 907.1 kB/s eta 0:00:12\n",
      "   --- ------------------------------------ 1.0/11.5 MB 914.5 kB/s eta 0:00:12\n",
      "   --- ------------------------------------ 1.0/11.5 MB 914.5 kB/s eta 0:00:12\n",
      "   ---- ----------------------------------- 1.3/11.5 MB 944.7 kB/s eta 0:00:11\n",
      "   ----- ---------------------------------- 1.6/11.5 MB 1.0 MB/s eta 0:00:10\n",
      "   ------ --------------------------------- 1.8/11.5 MB 967.9 kB/s eta 0:00:10\n",
      "   ------- -------------------------------- 2.1/11.5 MB 962.2 kB/s eta 0:00:10\n",
      "   ------- -------------------------------- 2.1/11.5 MB 962.2 kB/s eta 0:00:10\n",
      "   ------- -------------------------------- 2.1/11.5 MB 962.2 kB/s eta 0:00:10\n",
      "   -------- ------------------------------- 2.4/11.5 MB 877.1 kB/s eta 0:00:11\n",
      "   ---------- ----------------------------- 2.9/11.5 MB 981.1 kB/s eta 0:00:09\n",
      "   ---------- ----------------------------- 3.1/11.5 MB 1.0 MB/s eta 0:00:09\n",
      "   ------------ --------------------------- 3.7/11.5 MB 1.1 MB/s eta 0:00:08\n",
      "   ------------- -------------------------- 3.9/11.5 MB 1.1 MB/s eta 0:00:07\n",
      "   -------------- ------------------------- 4.2/11.5 MB 1.1 MB/s eta 0:00:07\n",
      "   --------------- ------------------------ 4.5/11.5 MB 1.1 MB/s eta 0:00:07\n",
      "   ----------------- ---------------------- 5.0/11.5 MB 1.2 MB/s eta 0:00:06\n",
      "   ------------------ --------------------- 5.2/11.5 MB 1.2 MB/s eta 0:00:06\n",
      "   -------------------- ------------------- 5.8/11.5 MB 1.3 MB/s eta 0:00:05\n",
      "   --------------------- ------------------ 6.3/11.5 MB 1.3 MB/s eta 0:00:04\n",
      "   ----------------------- ---------------- 6.8/11.5 MB 1.4 MB/s eta 0:00:04\n",
      "   ------------------------ --------------- 7.1/11.5 MB 1.4 MB/s eta 0:00:04\n",
      "   -------------------------- ------------- 7.6/11.5 MB 1.4 MB/s eta 0:00:03\n",
      "   --------------------------- ------------ 7.9/11.5 MB 1.4 MB/s eta 0:00:03\n",
      "   ----------------------------- ---------- 8.4/11.5 MB 1.5 MB/s eta 0:00:03\n",
      "   ------------------------------ --------- 8.9/11.5 MB 1.5 MB/s eta 0:00:02\n",
      "   ------------------------------ --------- 8.9/11.5 MB 1.5 MB/s eta 0:00:02\n",
      "   -------------------------------- ------- 9.4/11.5 MB 1.5 MB/s eta 0:00:02\n",
      "   ---------------------------------- ----- 10.0/11.5 MB 1.5 MB/s eta 0:00:02\n",
      "   ----------------------------------- ---- 10.2/11.5 MB 1.5 MB/s eta 0:00:01\n",
      "   ------------------------------------- -- 10.7/11.5 MB 1.5 MB/s eta 0:00:01\n",
      "   -------------------------------------- - 11.0/11.5 MB 1.5 MB/s eta 0:00:01\n",
      "   ---------------------------------------- 11.5/11.5 MB 1.5 MB/s eta 0:00:00\n",
      "Downloading pytz-2025.1-py2.py3-none-any.whl (507 kB)\n",
      "Installing collected packages: pytz, pandas\n",
      "Successfully installed pandas-2.2.3 pytz-2025.1\n",
      "Note: you may need to restart the kernel to use updated packages.\n"
     ]
    }
   ],
   "source": [
    "pip install pandas"
   ]
  },
  {
   "cell_type": "code",
   "execution_count": 8,
   "metadata": {},
   "outputs": [
    {
     "name": "stdout",
     "output_type": "stream",
     "text": [
      "Defaulting to user installation because normal site-packages is not writeable\n",
      "Collecting matplotlib\n",
      "  Downloading matplotlib-3.10.0-cp312-cp312-win_amd64.whl.metadata (11 kB)\n",
      "Collecting contourpy>=1.0.1 (from matplotlib)\n",
      "  Downloading contourpy-1.3.1-cp312-cp312-win_amd64.whl.metadata (5.4 kB)\n",
      "Collecting cycler>=0.10 (from matplotlib)\n",
      "  Downloading cycler-0.12.1-py3-none-any.whl.metadata (3.8 kB)\n",
      "Collecting fonttools>=4.22.0 (from matplotlib)\n",
      "  Downloading fonttools-4.56.0-cp312-cp312-win_amd64.whl.metadata (103 kB)\n",
      "Collecting kiwisolver>=1.3.1 (from matplotlib)\n",
      "  Downloading kiwisolver-1.4.8-cp312-cp312-win_amd64.whl.metadata (6.3 kB)\n",
      "Requirement already satisfied: numpy>=1.23 in c:\\users\\chandini\\appdata\\roaming\\python\\python312\\site-packages (from matplotlib) (2.2.2)\n",
      "Requirement already satisfied: packaging>=20.0 in c:\\users\\chandini\\appdata\\roaming\\python\\python312\\site-packages (from matplotlib) (24.2)\n",
      "Collecting pillow>=8 (from matplotlib)\n",
      "  Downloading pillow-11.1.0-cp312-cp312-win_amd64.whl.metadata (9.3 kB)\n",
      "Collecting pyparsing>=2.3.1 (from matplotlib)\n",
      "  Downloading pyparsing-3.2.1-py3-none-any.whl.metadata (5.0 kB)\n",
      "Requirement already satisfied: python-dateutil>=2.7 in c:\\users\\chandini\\appdata\\roaming\\python\\python312\\site-packages (from matplotlib) (2.9.0.post0)\n",
      "Requirement already satisfied: six>=1.5 in c:\\users\\chandini\\appdata\\roaming\\python\\python312\\site-packages (from python-dateutil>=2.7->matplotlib) (1.17.0)\n",
      "Downloading matplotlib-3.10.0-cp312-cp312-win_amd64.whl (8.0 MB)\n",
      "   ---------------------------------------- 0.0/8.0 MB ? eta -:--:--\n",
      "   ---------------------------------------- 0.0/8.0 MB ? eta -:--:--\n",
      "   - -------------------------------------- 0.3/8.0 MB ? eta -:--:--\n",
      "   - -------------------------------------- 0.3/8.0 MB ? eta -:--:--\n",
      "   -- ------------------------------------- 0.5/8.0 MB 882.6 kB/s eta 0:00:09\n",
      "   --- ------------------------------------ 0.8/8.0 MB 907.1 kB/s eta 0:00:08\n",
      "   --- ------------------------------------ 0.8/8.0 MB 907.1 kB/s eta 0:00:08\n",
      "   ----- ---------------------------------- 1.0/8.0 MB 868.0 kB/s eta 0:00:09\n",
      "   ------ --------------------------------- 1.3/8.0 MB 907.1 kB/s eta 0:00:08\n",
      "   ------- -------------------------------- 1.6/8.0 MB 943.0 kB/s eta 0:00:07\n",
      "   --------- ------------------------------ 1.8/8.0 MB 977.5 kB/s eta 0:00:07\n",
      "   ----------- ---------------------------- 2.4/8.0 MB 1.1 MB/s eta 0:00:06\n",
      "   ------------- -------------------------- 2.6/8.0 MB 1.1 MB/s eta 0:00:05\n",
      "   --------------- ------------------------ 3.1/8.0 MB 1.2 MB/s eta 0:00:05\n",
      "   ------------------ --------------------- 3.7/8.0 MB 1.3 MB/s eta 0:00:04\n",
      "   ------------------- -------------------- 3.9/8.0 MB 1.3 MB/s eta 0:00:04\n",
      "   ---------------------- ----------------- 4.5/8.0 MB 1.4 MB/s eta 0:00:03\n",
      "   ------------------------ --------------- 5.0/8.0 MB 1.5 MB/s eta 0:00:02\n",
      "   --------------------------- ------------ 5.5/8.0 MB 1.6 MB/s eta 0:00:02\n",
      "   ------------------------------- -------- 6.3/8.0 MB 1.7 MB/s eta 0:00:02\n",
      "   --------------------------------- ------ 6.8/8.0 MB 1.7 MB/s eta 0:00:01\n",
      "   ------------------------------------- -- 7.6/8.0 MB 1.8 MB/s eta 0:00:01\n",
      "   ---------------------------------------- 8.0/8.0 MB 1.9 MB/s eta 0:00:00\n",
      "Downloading contourpy-1.3.1-cp312-cp312-win_amd64.whl (220 kB)\n",
      "Downloading cycler-0.12.1-py3-none-any.whl (8.3 kB)\n",
      "Downloading fonttools-4.56.0-cp312-cp312-win_amd64.whl (2.2 MB)\n",
      "   ---------------------------------------- 0.0/2.2 MB ? eta -:--:--\n",
      "   --------- ------------------------------ 0.5/2.2 MB 2.1 MB/s eta 0:00:01\n",
      "   ----------------------- ---------------- 1.3/2.2 MB 3.2 MB/s eta 0:00:01\n",
      "   -------------------------------------- - 2.1/2.2 MB 3.4 MB/s eta 0:00:01\n",
      "   ---------------------------------------- 2.2/2.2 MB 3.2 MB/s eta 0:00:00\n",
      "Downloading kiwisolver-1.4.8-cp312-cp312-win_amd64.whl (71 kB)\n",
      "Downloading pillow-11.1.0-cp312-cp312-win_amd64.whl (2.6 MB)\n",
      "   ---------------------------------------- 0.0/2.6 MB ? eta -:--:--\n",
      "   ------- -------------------------------- 0.5/2.6 MB 3.4 MB/s eta 0:00:01\n",
      "   ----------------------- ---------------- 1.6/2.6 MB 3.6 MB/s eta 0:00:01\n",
      "   ----------------------------------- ---- 2.4/2.6 MB 3.6 MB/s eta 0:00:01\n",
      "   ---------------------------------------- 2.6/2.6 MB 3.6 MB/s eta 0:00:00\n",
      "Downloading pyparsing-3.2.1-py3-none-any.whl (107 kB)\n",
      "Installing collected packages: pyparsing, pillow, kiwisolver, fonttools, cycler, contourpy, matplotlib\n",
      "Successfully installed contourpy-1.3.1 cycler-0.12.1 fonttools-4.56.0 kiwisolver-1.4.8 matplotlib-3.10.0 pillow-11.1.0 pyparsing-3.2.1\n",
      "Note: you may need to restart the kernel to use updated packages.\n"
     ]
    }
   ],
   "source": [
    "pip install matplotlib"
   ]
  },
  {
   "cell_type": "code",
   "execution_count": 9,
   "metadata": {},
   "outputs": [
    {
     "name": "stdout",
     "output_type": "stream",
     "text": [
      "Defaulting to user installation because normal site-packages is not writeable\n",
      "Collecting seaborn\n",
      "  Downloading seaborn-0.13.2-py3-none-any.whl.metadata (5.4 kB)\n",
      "Requirement already satisfied: numpy!=1.24.0,>=1.20 in c:\\users\\chandini\\appdata\\roaming\\python\\python312\\site-packages (from seaborn) (2.2.2)\n",
      "Requirement already satisfied: pandas>=1.2 in c:\\users\\chandini\\appdata\\roaming\\python\\python312\\site-packages (from seaborn) (2.2.3)\n",
      "Requirement already satisfied: matplotlib!=3.6.1,>=3.4 in c:\\users\\chandini\\appdata\\roaming\\python\\python312\\site-packages (from seaborn) (3.10.0)\n",
      "Requirement already satisfied: contourpy>=1.0.1 in c:\\users\\chandini\\appdata\\roaming\\python\\python312\\site-packages (from matplotlib!=3.6.1,>=3.4->seaborn) (1.3.1)\n",
      "Requirement already satisfied: cycler>=0.10 in c:\\users\\chandini\\appdata\\roaming\\python\\python312\\site-packages (from matplotlib!=3.6.1,>=3.4->seaborn) (0.12.1)\n",
      "Requirement already satisfied: fonttools>=4.22.0 in c:\\users\\chandini\\appdata\\roaming\\python\\python312\\site-packages (from matplotlib!=3.6.1,>=3.4->seaborn) (4.56.0)\n",
      "Requirement already satisfied: kiwisolver>=1.3.1 in c:\\users\\chandini\\appdata\\roaming\\python\\python312\\site-packages (from matplotlib!=3.6.1,>=3.4->seaborn) (1.4.8)\n",
      "Requirement already satisfied: packaging>=20.0 in c:\\users\\chandini\\appdata\\roaming\\python\\python312\\site-packages (from matplotlib!=3.6.1,>=3.4->seaborn) (24.2)\n",
      "Requirement already satisfied: pillow>=8 in c:\\users\\chandini\\appdata\\roaming\\python\\python312\\site-packages (from matplotlib!=3.6.1,>=3.4->seaborn) (11.1.0)\n",
      "Requirement already satisfied: pyparsing>=2.3.1 in c:\\users\\chandini\\appdata\\roaming\\python\\python312\\site-packages (from matplotlib!=3.6.1,>=3.4->seaborn) (3.2.1)\n",
      "Requirement already satisfied: python-dateutil>=2.7 in c:\\users\\chandini\\appdata\\roaming\\python\\python312\\site-packages (from matplotlib!=3.6.1,>=3.4->seaborn) (2.9.0.post0)\n",
      "Requirement already satisfied: pytz>=2020.1 in c:\\users\\chandini\\appdata\\roaming\\python\\python312\\site-packages (from pandas>=1.2->seaborn) (2025.1)\n",
      "Requirement already satisfied: tzdata>=2022.7 in c:\\users\\chandini\\appdata\\roaming\\python\\python312\\site-packages (from pandas>=1.2->seaborn) (2024.2)\n",
      "Requirement already satisfied: six>=1.5 in c:\\users\\chandini\\appdata\\roaming\\python\\python312\\site-packages (from python-dateutil>=2.7->matplotlib!=3.6.1,>=3.4->seaborn) (1.17.0)\n",
      "Downloading seaborn-0.13.2-py3-none-any.whl (294 kB)\n",
      "Installing collected packages: seaborn\n",
      "Successfully installed seaborn-0.13.2\n",
      "Note: you may need to restart the kernel to use updated packages.\n"
     ]
    }
   ],
   "source": [
    "pip install seaborn"
   ]
  },
  {
   "cell_type": "code",
   "execution_count": 11,
   "metadata": {},
   "outputs": [
    {
     "name": "stdout",
     "output_type": "stream",
     "text": [
      "Defaulting to user installation because normal site-packages is not writeable\n",
      "Collecting sklearn\n",
      "  Downloading sklearn-0.0.post12.tar.gz (2.6 kB)\n",
      "  Installing build dependencies: started\n",
      "  Installing build dependencies: finished with status 'done'\n",
      "  Getting requirements to build wheel: started\n",
      "  Getting requirements to build wheel: finished with status 'error'\n",
      "Note: you may need to restart the kernel to use updated packages.\n"
     ]
    },
    {
     "name": "stderr",
     "output_type": "stream",
     "text": [
      "  error: subprocess-exited-with-error\n",
      "  \n",
      "  Getting requirements to build wheel did not run successfully.\n",
      "  exit code: 1\n",
      "  \n",
      "  [15 lines of output]\n",
      "  The 'sklearn' PyPI package is deprecated, use 'scikit-learn'\n",
      "  rather than 'sklearn' for pip commands.\n",
      "  \n",
      "  Here is how to fix this error in the main use cases:\n",
      "  - use 'pip install scikit-learn' rather than 'pip install sklearn'\n",
      "  - replace 'sklearn' by 'scikit-learn' in your pip requirements files\n",
      "    (requirements.txt, setup.py, setup.cfg, Pipfile, etc ...)\n",
      "  - if the 'sklearn' package is used by one of your dependencies,\n",
      "    it would be great if you take some time to track which package uses\n",
      "    'sklearn' instead of 'scikit-learn' and report it to their issue tracker\n",
      "  - as a last resort, set the environment variable\n",
      "    SKLEARN_ALLOW_DEPRECATED_SKLEARN_PACKAGE_INSTALL=True to avoid this error\n",
      "  \n",
      "  More information is available at\n",
      "  https://github.com/scikit-learn/sklearn-pypi-package\n",
      "  [end of output]\n",
      "  \n",
      "  note: This error originates from a subprocess, and is likely not a problem with pip.\n",
      "error: subprocess-exited-with-error\n",
      "\n",
      "Getting requirements to build wheel did not run successfully.\n",
      "exit code: 1\n",
      "\n",
      "See above for output.\n",
      "\n",
      "note: This error originates from a subprocess, and is likely not a problem with pip.\n"
     ]
    }
   ],
   "source": [
    "pip install sklearn"
   ]
  },
  {
   "cell_type": "code",
   "execution_count": 1,
   "metadata": {
    "id": "fVecaf640pVE"
   },
   "outputs": [
    {
     "ename": "ModuleNotFoundError",
     "evalue": "No module named 'sklearn'",
     "output_type": "error",
     "traceback": [
      "\u001b[1;31m---------------------------------------------------------------------------\u001b[0m",
      "\u001b[1;31mModuleNotFoundError\u001b[0m                       Traceback (most recent call last)",
      "Cell \u001b[1;32mIn[1], line 5\u001b[0m\n\u001b[0;32m      3\u001b[0m \u001b[38;5;28;01mimport\u001b[39;00m\u001b[38;5;250m \u001b[39m\u001b[38;5;21;01mmatplotlib\u001b[39;00m\u001b[38;5;21;01m.\u001b[39;00m\u001b[38;5;21;01mpyplot\u001b[39;00m\u001b[38;5;250m \u001b[39m\u001b[38;5;28;01mas\u001b[39;00m\u001b[38;5;250m \u001b[39m\u001b[38;5;21;01mplt\u001b[39;00m\n\u001b[0;32m      4\u001b[0m \u001b[38;5;28;01mimport\u001b[39;00m\u001b[38;5;250m \u001b[39m\u001b[38;5;21;01mseaborn\u001b[39;00m\u001b[38;5;250m \u001b[39m\u001b[38;5;28;01mas\u001b[39;00m\u001b[38;5;250m \u001b[39m\u001b[38;5;21;01msns\u001b[39;00m\n\u001b[1;32m----> 5\u001b[0m \u001b[38;5;28;01mfrom\u001b[39;00m\u001b[38;5;250m \u001b[39m\u001b[38;5;21;01msklearn\u001b[39;00m\u001b[38;5;21;01m.\u001b[39;00m\u001b[38;5;21;01mmodel_selection\u001b[39;00m\u001b[38;5;250m \u001b[39m\u001b[38;5;28;01mimport\u001b[39;00m train_test_split\n\u001b[0;32m      6\u001b[0m \u001b[38;5;28;01mfrom\u001b[39;00m\u001b[38;5;250m \u001b[39m\u001b[38;5;21;01msklearn\u001b[39;00m\u001b[38;5;21;01m.\u001b[39;00m\u001b[38;5;21;01mimpute\u001b[39;00m\u001b[38;5;250m \u001b[39m\u001b[38;5;28;01mimport\u001b[39;00m SimpleImputer\n\u001b[0;32m      7\u001b[0m \u001b[38;5;28;01mfrom\u001b[39;00m\u001b[38;5;250m \u001b[39m\u001b[38;5;21;01msklearn\u001b[39;00m\u001b[38;5;21;01m.\u001b[39;00m\u001b[38;5;21;01mpreprocessing\u001b[39;00m\u001b[38;5;250m \u001b[39m\u001b[38;5;28;01mimport\u001b[39;00m StandardScaler\n",
      "\u001b[1;31mModuleNotFoundError\u001b[0m: No module named 'sklearn'"
     ]
    }
   ],
   "source": [
    "\n",
    "import numpy as np\n",
    "import pandas as pd\n",
    "import matplotlib.pyplot as plt\n",
    "import seaborn as sns\n",
    "from sklearn.model_selection import train_test_split\n",
    "from sklearn.impute import SimpleImputer\n",
    "from sklearn.preprocessing import StandardScaler\n",
    "from sklearn.metrics import roc_auc_score, classification_report, confusion_matrix, roc_curve\n",
    "palette = [\"#87CEEB\", \"#FFA07A\"]"
   ]
  },
  {
   "cell_type": "code",
   "execution_count": null,
   "metadata": {
    "colab": {
     "base_uri": "https://localhost:8080/"
    },
    "id": "ziMioyLRHGNu",
    "outputId": "3e856dc4-6866-4603-c723-399b80eff940"
   },
   "outputs": [],
   "source": [
    "df = pd.DataFrame(pd.read_csv(\"HeartDisease.csv\"))\n",
    "df\n",
    "print(df.shape)\n",
    "print(df.info())\n",
    "print(df.describe())\n",
    "print(df.isnull().sum())"
   ]
  },
  {
   "cell_type": "code",
   "execution_count": null,
   "metadata": {
    "colab": {
     "base_uri": "https://localhost:8080/",
     "height": 226
    },
    "id": "u3bO4uVcOfOf",
    "outputId": "f3b7426a-3ab5-4700-b89c-6e31533b2352"
   },
   "outputs": [],
   "source": [
    "new_column_names = {\n",
    "    'age': 'Age',\n",
    "    'sex': 'Sex',\n",
    "    'chest pain type': 'ChestPainType',\n",
    "    'resting bp s': 'RestingBloodPressure',\n",
    "    'cholesterol': 'SerumCholesterol',\n",
    "    'fasting blood sugar': 'FastingBloodSugar',\n",
    "    'resting ecg': 'RestingECG',\n",
    "    'max heart rate': 'MaxHeartRate',\n",
    "    'exercise angina': 'ExerciseInducedAngina',\n",
    "    'oldpeak': 'STDepression',\n",
    "    'ST slope': 'SlopeSTSegment',\n",
    "    'target': 'HeartDiseaseDiagnosis'\n",
    "}\n",
    "\n",
    "\n",
    "df.rename(columns=new_column_names, inplace=True)\n",
    "\n",
    "df.head()"
   ]
  },
  {
   "cell_type": "markdown",
   "metadata": {
    "id": "DBcASED2QP5I"
   },
   "source": [
    "In this step, we binarize the target variable, simplifying the problem into a binary classification task. Values greater than 0 are assigned 1, indicating a positive diagnosis, while values equal to 0 remain 0, signifying a negative diagnosis."
   ]
  },
  {
   "cell_type": "code",
   "execution_count": null,
   "metadata": {
    "colab": {
     "base_uri": "https://localhost:8080/"
    },
    "id": "nCUk1Io8QO3n",
    "outputId": "1586fac3-386a-4d78-d24d-7759259cf900"
   },
   "outputs": [],
   "source": [
    "print('Before binarization: \\n', df['HeartDiseaseDiagnosis'].value_counts())\n",
    "\n",
    "df['HeartDiseaseDiagnosis'] = np.int64(df['HeartDiseaseDiagnosis'] > 0)\n",
    "print('\\nAfter binarization: \\n', df['HeartDiseaseDiagnosis'].value_counts())"
   ]
  },
  {
   "cell_type": "code",
   "execution_count": null,
   "metadata": {
    "colab": {
     "base_uri": "https://localhost:8080/",
     "height": 564
    },
    "id": "MSsHWGgPQeBb",
    "outputId": "04bdba57-3611-4ad9-f424-2ad916fdb6a4"
   },
   "outputs": [],
   "source": [
    "sns.countplot(x=\"HeartDiseaseDiagnosis\", data=df, palette=palette)\n",
    "plt.xlabel(\"Heart Disease (0 = False, 1 = True)\")\n",
    "plt.title('Target Variable Distribution')\n",
    "plt.show()"
   ]
  },
  {
   "cell_type": "code",
   "execution_count": null,
   "metadata": {
    "colab": {
     "base_uri": "https://localhost:8080/"
    },
    "id": "uTh8sj3FQ3q-",
    "outputId": "a1eade91-d05e-45db-cd09-41c991f304eb"
   },
   "outputs": [],
   "source": [
    "ChestPainType_mapping = {1: 'Typical angina', 2: 'Atypical angina', 3: 'Non-anginal pain', 4: 'Asymptomatic'}\n",
    "SlopeSTSegment_mapping = {1: 'Upsloping', 2: 'Flat', 3: 'Downsloping'}\n",
    "print('Before encoding:\\n\\n' ,df.ChestPainType.value_counts())\n",
    "\n",
    "df['ChestPainType'] = df['ChestPainType'].map(ChestPainType_mapping)\n",
    "df['SlopeSTSegment'] = df['SlopeSTSegment'].map(SlopeSTSegment_mapping)\n",
    "print('After encoding:\\n\\n' ,df.ChestPainType.value_counts())\n"
   ]
  },
  {
   "cell_type": "code",
   "execution_count": null,
   "metadata": {
    "id": "YOkrJyjoVCRt"
   },
   "outputs": [],
   "source": [
    "categorical_vars = ['ChestPainType', 'SlopeSTSegment']\n",
    "df[categorical_vars] = df[categorical_vars].astype(str)"
   ]
  },
  {
   "cell_type": "code",
   "execution_count": null,
   "metadata": {
    "id": "9oSsMbXaVJVz"
   },
   "outputs": [],
   "source": [
    "df.replace('nan', np.nan, inplace=True)"
   ]
  },
  {
   "cell_type": "code",
   "execution_count": null,
   "metadata": {
    "colab": {
     "base_uri": "https://localhost:8080/",
     "height": 423
    },
    "id": "iSP66Bju5uPg",
    "outputId": "c40c94c8-0454-45f2-f146-6da3252d1796"
   },
   "outputs": [],
   "source": [
    "dummies = pd.get_dummies(df[categorical_vars], prefix=categorical_vars,dummy_na = False, drop_first=True).astype(np.int64)\n",
    "df = pd.concat([df, dummies], axis=1)\n",
    "df = df.drop(columns=categorical_vars)\n",
    "\n",
    "dummies"
   ]
  },
  {
   "cell_type": "code",
   "execution_count": null,
   "metadata": {
    "id": "4YEyRKh35xRB"
   },
   "outputs": [],
   "source": [
    "df.dropna(inplace=True)"
   ]
  },
  {
   "cell_type": "code",
   "execution_count": null,
   "metadata": {
    "colab": {
     "base_uri": "https://localhost:8080/",
     "height": 795
    },
    "id": "CuEVThiUitsE",
    "outputId": "5322e494-d230-4f1f-e3c2-d97d75b9cd42"
   },
   "outputs": [],
   "source": [
    "import seaborn as sns\n",
    "import matplotlib.pyplot as plt\n",
    "\n",
    "data = np.random.rand(10, 12)  # Replace with your own data\n",
    "heatmap_labels = [f'Label {i}' for i in range(10)]  # Replace with your own labels\n",
    "\n",
    "plt.figure(figsize=(15,9))\n",
    "sns.heatmap(data, annot=True, fmt=\".2f\", cmap='Blues',\n",
    "            xticklabels=heatmap_labels,\n",
    "            yticklabels=heatmap_labels)\n",
    "\n",
    "plt.title('Heatmap Title')\n",
    "plt.xlabel('X-axis Label')\n",
    "plt.ylabel('Y-axis Label')\n",
    "plt.show()"
   ]
  },
  {
   "cell_type": "code",
   "execution_count": null,
   "metadata": {
    "colab": {
     "base_uri": "https://localhost:8080/",
     "height": 915
    },
    "id": "RdPGw0Iuimbt",
    "outputId": "b97c8413-b2f9-4c68-b0f3-807981215599"
   },
   "outputs": [],
   "source": [
    "import matplotlib.pyplot as plt\n",
    "\n",
    "numeric_columns = df.select_dtypes(include=['int64', 'float64']).columns\n",
    "\n",
    "plt.figure(figsize=(12, 8))\n",
    "sns.boxplot(data=df[numeric_columns], palette=\"Set2\")\n",
    "\n",
    "plt.title('Boxplot of Numeric Columns in Heart Disease Dataset', fontsize=16)\n",
    "plt.xlabel('Columns', fontsize=14)\n",
    "plt.ylabel('Values', fontsize=14)\n",
    "plt.xticks(rotation=45, fontsize=12)\n",
    "plt.grid(axis='y', linestyle='--', alpha=0.7)\n",
    "\n",
    "plt.show()"
   ]
  },
  {
   "cell_type": "markdown",
   "metadata": {
    "id": "1j-Lwf3Z6XPA"
   },
   "source": [
    "###Data Preparation for Machine Learning\n"
   ]
  },
  {
   "cell_type": "code",
   "execution_count": null,
   "metadata": {
    "id": "bPtEBuCY6mmc"
   },
   "outputs": [],
   "source": [
    "X = df.drop('HeartDiseaseDiagnosis', axis=1)\n",
    "y = df['HeartDiseaseDiagnosis']"
   ]
  },
  {
   "cell_type": "code",
   "execution_count": null,
   "metadata": {
    "id": "CiVOY7886rUH"
   },
   "outputs": [],
   "source": [
    "X_train, X_test, y_train, y_test = train_test_split(X, y, test_size=0.2, random_state=42)"
   ]
  },
  {
   "cell_type": "markdown",
   "metadata": {
    "id": "0Y-CkAsP7ELf"
   },
   "source": [
    "###Create and Training the Random Forest Model"
   ]
  },
  {
   "cell_type": "code",
   "execution_count": null,
   "metadata": {
    "colab": {
     "base_uri": "https://localhost:8080/"
    },
    "id": "6cMaYzCK64Sp",
    "outputId": "dd5eb63e-3abe-4ce5-edf5-6df20d337703"
   },
   "outputs": [],
   "source": [
    "from sklearn.ensemble import RandomForestClassifier\n",
    "import joblib\n",
    "\n",
    "max_depth = 100\n",
    "n_estimators = 100\n",
    "\n",
    "model = RandomForestClassifier(max_depth=max_depth, n_estimators=n_estimators, random_state=42)\n",
    "trained_model = model.fit(X_train, y_train)\n",
    "\n",
    "# Save the trained model to a file\n",
    "joblib.dump(trained_model, 'random_forest_model.joblib')\n",
    "print(\"Model saved successfully!\")\n"
   ]
  },
  {
   "cell_type": "markdown",
   "metadata": {
    "id": "cQwrk4MM7pxH"
   },
   "source": [
    "###Model Evaluation and Visualization"
   ]
  },
  {
   "cell_type": "code",
   "execution_count": null,
   "metadata": {
    "colab": {
     "base_uri": "https://localhost:8080/"
    },
    "id": "GlwjZS6A7u62",
    "outputId": "ca03dc7a-8b23-4f77-adbb-cb35956b0ffa"
   },
   "outputs": [],
   "source": [
    "from sklearn.metrics import confusion_matrix, accuracy_score, precision_score, recall_score, f1_score\n",
    "\n",
    "y_pred = model.predict(X_test)\n",
    "y_pred_train = model.predict(X_train)\n",
    "\n",
    "\n",
    "accuracy_train = accuracy_score(y_train, y_pred_train)\n",
    "print(f\"Accuracy on train set: {accuracy_train:.2f}\")\n",
    "\n",
    "accuracy_test = accuracy_score(y_test, y_pred)\n",
    "print(f\"Accuracy on test set: {accuracy_test:.2f}\")"
   ]
  },
  {
   "cell_type": "code",
   "execution_count": null,
   "metadata": {
    "colab": {
     "base_uri": "https://localhost:8080/",
     "height": 564
    },
    "id": "bHacKoW970N6",
    "outputId": "eeb6fd0f-92a2-42b9-8d26-1734696b1e94"
   },
   "outputs": [],
   "source": [
    "conf_matrix = confusion_matrix(y_test, y_pred)\n",
    "\n",
    "plt.figure(figsize=(8, 6))\n",
    "sns.heatmap(conf_matrix, annot=True, fmt='d', cmap='Blues', cbar=False,\n",
    "            xticklabels=['No Disease', 'Disease'], yticklabels=['No Disease', 'Disease'])\n",
    "plt.title('Confusion Matrix')\n",
    "plt.xlabel('Predicted')\n",
    "plt.ylabel('Actual')\n",
    "plt.show()"
   ]
  },
  {
   "cell_type": "code",
   "execution_count": null,
   "metadata": {
    "colab": {
     "base_uri": "https://localhost:8080/"
    },
    "id": "2AFuy_sG746M",
    "outputId": "acb1e95b-2962-457e-fba8-6cb089f37f94"
   },
   "outputs": [],
   "source": [
    "print(\"\\nClassification Report:\")\n",
    "print(classification_report(y_test, y_pred))"
   ]
  },
  {
   "cell_type": "code",
   "execution_count": null,
   "metadata": {
    "colab": {
     "base_uri": "https://localhost:8080/",
     "height": 564
    },
    "id": "9BRYQTC88BNQ",
    "outputId": "6225b64f-c4d3-49f1-af43-a8b736d75c75"
   },
   "outputs": [],
   "source": [
    "y_probs = model.predict_proba(X_test)[:, 1]\n",
    "roc_auc = roc_auc_score(y_test, y_probs)\n",
    "\n",
    "fpr, tpr, thresholds = roc_curve(y_test, y_probs)\n",
    "\n",
    "plt.figure(figsize=(8, 6))\n",
    "plt.plot(fpr, tpr, color='blue', label=f'AUC = {roc_auc:.2f}')\n",
    "plt.plot([0, 1], [0, 1], color='gray', linestyle='--')\n",
    "plt.title('Receiver Operating Characteristic (ROC) Curve')\n",
    "plt.xlabel('False Positive Rate (Specificity)')\n",
    "plt.ylabel('True Positive Rate (Sensitivity)')\n",
    "plt.legend()\n",
    "plt.show()"
   ]
  },
  {
   "cell_type": "code",
   "execution_count": null,
   "metadata": {
    "colab": {
     "base_uri": "https://localhost:8080/",
     "height": 899
    },
    "id": "Ee87yxWN8Pcx",
    "outputId": "a3df7ade-817f-472c-ad76-b844f6664e61"
   },
   "outputs": [],
   "source": [
    "feature_importances = pd.DataFrame({'Feature': X.columns, 'Importance': trained_model.feature_importances_})\n",
    "feature_importances = feature_importances.sort_values(by='Importance', ascending=False)\n",
    "\n",
    "plt.figure(figsize=(12, 8))\n",
    "sns.barplot(x='Importance', y='Feature', data=feature_importances, palette=\"viridis\")\n",
    "plt.xlabel('Importance')\n",
    "plt.ylabel('Feature')\n",
    "plt.title('Feature Importances')\n",
    "plt.tight_layout()\n",
    "plt.show()"
   ]
  },
  {
   "cell_type": "code",
   "execution_count": null,
   "metadata": {
    "colab": {
     "base_uri": "https://localhost:8080/"
    },
    "id": "XMBPH-Cn8jfk",
    "outputId": "21a33296-1349-4f99-e897-850d777e1461"
   },
   "outputs": [],
   "source": [
    "import joblib\n",
    "\n",
    "# Load the saved Random Forest model\n",
    "loaded_model = joblib.load('random_forest_model.joblib')\n",
    "print(\"Model loaded successfully!\")\n",
    "\n",
    "# Make prediction using the loaded model\n",
    "input_data = [[55, 1, 2, 140, 220, 0, 1, 150, 0, 0.5, 2, 1, 0, 0]]\n",
    "prediction = loaded_model.predict(input_data)\n",
    "print(\"Predicted class:\", \"Heart Disease\" if prediction[0] == 1 else \"No Heart Disease\")\n"
   ]
  }
 ],
 "metadata": {
  "colab": {
   "provenance": []
  },
  "kernelspec": {
   "display_name": "Python 3 (ipykernel)",
   "language": "python",
   "name": "python3"
  },
  "language_info": {
   "codemirror_mode": {
    "name": "ipython",
    "version": 3
   },
   "file_extension": ".py",
   "mimetype": "text/x-python",
   "name": "python",
   "nbconvert_exporter": "python",
   "pygments_lexer": "ipython3",
   "version": "3.12.1"
  }
 },
 "nbformat": 4,
 "nbformat_minor": 4
}
